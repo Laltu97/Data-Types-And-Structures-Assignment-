{
 "cells": [
  {
   "cell_type": "markdown",
   "id": "ef3abe54-e256-4981-9671-f93a50c98d0a",
   "metadata": {},
   "source": [
    "# Data Types and Structures Questions"
   ]
  },
  {
   "cell_type": "markdown",
   "id": "ec480db9-7d3a-437b-9183-f0e40e5a6659",
   "metadata": {},
   "source": [
    "## Q.1) What are data structures, and why are they important?"
   ]
  },
  {
   "cell_type": "markdown",
   "id": "fde4f248-485b-4cb4-9052-d4c080fce88c",
   "metadata": {},
   "source": [
    "### Ans:- Data structures are the efficient storage, and manipulation of data. They are provide the large amounts of data systematically and facilitate various operations are searching,sorting and storing."
   ]
  },
  {
   "cell_type": "markdown",
   "id": "10e02598-4b00-42c3-86ee-15f02ec13c7b",
   "metadata": {},
   "source": [
    "## Q.2) Explain the difference between mutable and immutable data types with examples."
   ]
  },
  {
   "cell_type": "markdown",
   "id": "9006e505-8bea-44b6-b09b-45f9ff1cdf75",
   "metadata": {},
   "source": [
    "### Ans :- Mutable data - There are changed after their creat.(Exam - list and dictionaries in python) Immutable - They are can not be changed after creat.(Exam - Strings,tuples in python)"
   ]
  },
  {
   "cell_type": "code",
   "execution_count": 2,
   "id": "74558fe8-1b1c-41d8-912d-d80cbf2371f2",
   "metadata": {},
   "outputs": [
    {
     "name": "stdout",
     "output_type": "stream",
     "text": [
      "[10, 20, 30]\n"
     ]
    }
   ],
   "source": [
    "#lists\n",
    "my_list = [10, 20, 30]\n",
    "print(my_list)"
   ]
  },
  {
   "cell_type": "code",
   "execution_count": 3,
   "id": "3f01c30d-b221-4087-9503-487fcf8bacd6",
   "metadata": {},
   "outputs": [
    {
     "name": "stdout",
     "output_type": "stream",
     "text": [
      "[10, 15, 30]\n"
     ]
    }
   ],
   "source": [
    "my_list[1] = 15\n",
    "print(my_list)"
   ]
  },
  {
   "cell_type": "code",
   "execution_count": 4,
   "id": "648c504d-d1f3-4c01-a161-e074fcc84918",
   "metadata": {},
   "outputs": [
    {
     "name": "stdout",
     "output_type": "stream",
     "text": [
      "laltu\n"
     ]
    }
   ],
   "source": [
    "## immutable # strings\n",
    "my_string = \"laltu\"\n",
    "print (my_string)"
   ]
  },
  {
   "cell_type": "code",
   "execution_count": 5,
   "id": "2d18efef-1bfb-4f43-9913-240fc0e97e11",
   "metadata": {},
   "outputs": [
    {
     "ename": "TypeError",
     "evalue": "'str' object does not support item assignment",
     "output_type": "error",
     "traceback": [
      "\u001b[1;31m---------------------------------------------------------------------------\u001b[0m",
      "\u001b[1;31mTypeError\u001b[0m                                 Traceback (most recent call last)",
      "Cell \u001b[1;32mIn[5], line 1\u001b[0m\n\u001b[1;32m----> 1\u001b[0m my_string[\u001b[38;5;241m0\u001b[39m] \u001b[38;5;241m=\u001b[39m \u001b[38;5;124m\"\u001b[39m\u001b[38;5;124mL\u001b[39m\u001b[38;5;124m\"\u001b[39m\n",
      "\u001b[1;31mTypeError\u001b[0m: 'str' object does not support item assignment"
     ]
    }
   ],
   "source": [
    "my_string[0] = \"L\""
   ]
  },
  {
   "cell_type": "markdown",
   "id": "4c0fbdd3-ba09-4075-b103-8f899d1c1570",
   "metadata": {},
   "source": [
    "## Q.3) What are the main differences between lists and tuples in python?"
   ]
  },
  {
   "cell_type": "markdown",
   "id": "4c916759-f6da-4369-bc3b-90c92d5114df",
   "metadata": {},
   "source": [
    "### Ans :- The main differences is mutability, definition and performance"
   ]
  },
  {
   "cell_type": "markdown",
   "id": "e110277f-f0ee-4f64-9e11-6f44ac440625",
   "metadata": {},
   "source": [
    "## Q.4) Describe how dictionaries store data."
   ]
  },
  {
   "cell_type": "markdown",
   "id": "f9126b3a-d232-4b10-9835-1afc7a591dcf",
   "metadata": {},
   "source": [
    "### Ans :- Dictionaries store data in key value pair and you can use it to access the respond correst value quickly."
   ]
  },
  {
   "cell_type": "markdown",
   "id": "5442c76f-575f-47c7-9609-1f8d9d4ac765",
   "metadata": {},
   "source": [
    "## Q.5) Why might you use a set instead of a list in python?"
   ]
  },
  {
   "cell_type": "markdown",
   "id": "b7fc7a62-2358-450e-826d-96869a438210",
   "metadata": {},
   "source": [
    "### Ans :- Sets are used instead of lists are all elements are unique and when order does not matter."
   ]
  },
  {
   "cell_type": "markdown",
   "id": "ea31b70d-1527-4dca-ad09-a8adcf3d5d32",
   "metadata": {},
   "source": [
    "## Q.6) What is a string in python, and how is it different from a list?"
   ]
  },
  {
   "cell_type": "markdown",
   "id": "6e9549bd-476a-4e30-9b63-6e54545784bf",
   "metadata": {},
   "source": [
    "### Ans :- A string is a sequence of characters used for text data in python. String are immutable.String is created the characters cannot be changed.List are various types and can be modified."
   ]
  },
  {
   "cell_type": "markdown",
   "id": "6498e6e7-3a27-485e-ae20-9f6b676ab6ff",
   "metadata": {},
   "source": [
    "## Q.7) How do tuples ensure data integrity in python?"
   ]
  },
  {
   "cell_type": "markdown",
   "id": "4a3ec7b6-1e2e-4a4f-bf93-e27cdbd5b45c",
   "metadata": {},
   "source": [
    "### Ans :- Tuples ensure data integrity are immutable.This means tuple its contents cannot be changed, preventing accidental modifications."
   ]
  },
  {
   "cell_type": "markdown",
   "id": "754d5698-cf3e-463f-93d2-98b5597ed4a7",
   "metadata": {},
   "source": [
    "## Q.8) What is a hash table,and how does it relate to dictionaries in python?"
   ]
  },
  {
   "cell_type": "markdown",
   "id": "bccba939-3567-43db-b54e-8d3c1023c56a",
   "metadata": {},
   "source": [
    "### Ans :- Hash table is a data structure that implements an associative array a structure that can map keys to values.Python dictionaries use a hash table internally which allows for efficien data retrieval."
   ]
  },
  {
   "cell_type": "markdown",
   "id": "947b3570-bd3b-4a07-9912-6585fd3f2621",
   "metadata": {},
   "source": [
    "## Q.9) Can lists contain different data types in python?"
   ]
  },
  {
   "cell_type": "markdown",
   "id": "c06be9a4-8f6f-4bb0-9839-a68eee19d078",
   "metadata": {},
   "source": [
    "### Ans :- Yes, lists in python different data types within a single list. A list can contain strings, integers, and other lists."
   ]
  },
  {
   "cell_type": "markdown",
   "id": "efe55cd7-c8eb-4e3a-ae9c-3d81f0adebc4",
   "metadata": {},
   "source": [
    "## Q.10) Explain why strings are immutable in python?"
   ]
  },
  {
   "cell_type": "markdown",
   "id": "a34ebc2c-f5cd-42bb-a4b2-43bfcfb55ba7",
   "metadata": {},
   "source": [
    "### Ans :- Strings are immutable in python. Immutablility ensures that strings can be safely shared and with out the risk of unintended changes."
   ]
  },
  {
   "cell_type": "markdown",
   "id": "da035ac6-15f0-4269-951d-bcbd76269173",
   "metadata": {},
   "source": [
    "## Q.11) What advantages do dictionaries offer over lists for certain tasks?"
   ]
  },
  {
   "cell_type": "markdown",
   "id": "d4c4405e-865d-448b-ba00-f4a3a43d2ff1",
   "metadata": {},
   "source": [
    "### Ans :- Dictionaries provide a fast method for data retrieval using unique keys making them idel for lookup and associations. If you need to find a specific value basrd on a key dictionary will usually be faster and more effcient than a list."
   ]
  },
  {
   "cell_type": "markdown",
   "id": "d3eeb0b4-d6bb-4301-871c-73b043f31acf",
   "metadata": {},
   "source": [
    "## Q.12) Describe a scenario where using a tuple would be preferable over a list."
   ]
  },
  {
   "cell_type": "markdown",
   "id": "68bc444c-01b6-48f4-9d82-157e1dabdada",
   "metadata": {},
   "source": [
    "## Q.13) How do sets handle duplicate values in python?"
   ]
  },
  {
   "cell_type": "markdown",
   "id": "6b93162d-c4c8-488b-841a-25afdda79887",
   "metadata": {},
   "source": [
    "### Ans :- Sets automatically eliminate duplicate values. When added elements to a set any duplicate are ignored that element are unique."
   ]
  },
  {
   "cell_type": "markdown",
   "id": "8bb1f3d9-1262-47d1-81be-61b029a7889e",
   "metadata": {},
   "source": [
    "## Q.14) How does the \"in\" keyword work differently for lists and dictionaries?"
   ]
  },
  {
   "cell_type": "markdown",
   "id": "1c0bfa49-c339-4929-94f1-8597a43334cb",
   "metadata": {},
   "source": [
    "### Ans :- Lists - When used a list in checks a value or among the elements of the list. Dictionaries - Dictionaries in check a key not values."
   ]
  },
  {
   "cell_type": "code",
   "execution_count": 1,
   "id": "517b8320-b115-4ade-8f78-4d06de2d5729",
   "metadata": {},
   "outputs": [],
   "source": [
    "my_list = [\"apple\", \"orange\", \"banana\"]"
   ]
  },
  {
   "cell_type": "code",
   "execution_count": 2,
   "id": "627da1e8-6fdf-47f3-936c-366ea51cd1fc",
   "metadata": {},
   "outputs": [
    {
     "name": "stdout",
     "output_type": "stream",
     "text": [
      "True\n"
     ]
    }
   ],
   "source": [
    "print(\"apple\" in my_list)"
   ]
  },
  {
   "cell_type": "code",
   "execution_count": 3,
   "id": "e7d499d3-324f-4a9c-a243-6fb32db20967",
   "metadata": {},
   "outputs": [],
   "source": [
    "## dictionaries\n",
    "my_list = {\"name\":\"laltu\", \"city\":\"bankura\", \"pin\":722154}"
   ]
  },
  {
   "cell_type": "code",
   "execution_count": 4,
   "id": "a454f933-93d7-4172-9caa-e4a609f35c16",
   "metadata": {},
   "outputs": [
    {
     "name": "stdout",
     "output_type": "stream",
     "text": [
      "True\n"
     ]
    }
   ],
   "source": [
    "print(\"name\" in my_list)"
   ]
  },
  {
   "cell_type": "code",
   "execution_count": 5,
   "id": "6a2aadde-aed1-4056-b1ac-ed649458c378",
   "metadata": {},
   "outputs": [
    {
     "name": "stdout",
     "output_type": "stream",
     "text": [
      "False\n"
     ]
    }
   ],
   "source": [
    "print (\"bankura\" in my_list)"
   ]
  },
  {
   "cell_type": "markdown",
   "id": "bdf36a89-da30-469a-abda-d4e55d3353ad",
   "metadata": {},
   "source": [
    "## Q.15) Can you modify the elements of a tuple?Explain why or why not."
   ]
  },
  {
   "cell_type": "markdown",
   "id": "ed35c8cd-d764-44e5-9589-27bf3d05433b",
   "metadata": {},
   "source": [
    "## Ans :- You can not modify the elements because they are immutable."
   ]
  },
  {
   "cell_type": "markdown",
   "id": "b28042d2-7ea8-4176-8369-03c2293262d6",
   "metadata": {},
   "source": [
    "## Q.16) What is a nested dictionary,and give an example of its use case?"
   ]
  },
  {
   "cell_type": "markdown",
   "id": "005e3bad-c0af-4bbf-8c30-8b7020a0c20d",
   "metadata": {},
   "source": [
    "### Ans :- Nested dictionary is a contains another dictionary as a value."
   ]
  },
  {
   "cell_type": "markdown",
   "id": "312a48e4-5ab9-47f1-88c3-15a0b9f297f2",
   "metadata": {},
   "source": [
    "## Q.17) Describe the time complexity of accessing elements in a dictionary."
   ]
  },
  {
   "cell_type": "markdown",
   "id": "3285c95c-77ff-4f11-90e3-ad61140b1cc0",
   "metadata": {},
   "source": [
    "### Ans :- Accessing elements in a dictionary typically has a time complexity of due to the hash table implementation making it very efficient compared to lists."
   ]
  },
  {
   "cell_type": "markdown",
   "id": "496f81c9-b134-4a13-b357-fbc6c915a8a8",
   "metadata": {},
   "source": [
    "## Q.18) In what situations are lists preferred over dictionaries?"
   ]
  },
  {
   "cell_type": "markdown",
   "id": "a7716568-4b90-4e81-ad89-db159e71ad4e",
   "metadata": {},
   "source": [
    "### Ans :- Lists are preferred when you need to maintain order among elements perform slicing,or require operations like sorting.They are also simpler for cases where you only need to store items without key associations."
   ]
  },
  {
   "cell_type": "markdown",
   "id": "041fb56a-0a16-431d-b899-7b73687813c1",
   "metadata": {},
   "source": [
    "## Q.19) Why are dictionaries considered unordered,and how does that affect data retrieval?"
   ]
  },
  {
   "cell_type": "markdown",
   "id": "fe9cb0c9-d907-405e-a571-76ea09a09b81",
   "metadata": {},
   "source": [
    "### Ans :- Dictionaries are considered unordered because the keys do not maintain a specific sequence that data retrieval is based on keys than order.This does not generally affect retrieval time."
   ]
  },
  {
   "cell_type": "markdown",
   "id": "ae5c3756-0e6e-45ff-a806-f52dcced548f",
   "metadata": {},
   "source": [
    "## Q.20) Explain the difference between a list and a dictionary in terms of data retrieval."
   ]
  },
  {
   "cell_type": "markdown",
   "id": "2b0c832e-05ac-4da6-b5fc-a28d8f71b801",
   "metadata": {},
   "source": [
    "### Ans :- List - List access by index and this is ordered collection of elements. Dictionary - Dictionary access by key and this is unordered collection of key value pairs."
   ]
  },
  {
   "cell_type": "markdown",
   "id": "5a3b5c92-1382-4ab8-b7ad-eaf8aa43cc49",
   "metadata": {},
   "source": [
    "# Practical"
   ]
  },
  {
   "cell_type": "markdown",
   "id": "3a7ba78e-11b1-4ace-a924-5150b63a689f",
   "metadata": {},
   "source": [
    "## Q.1) Write a code to create a string with your name and print"
   ]
  },
  {
   "cell_type": "code",
   "execution_count": 6,
   "id": "a3ea46a5-836d-423d-8c40-14120f790b4b",
   "metadata": {},
   "outputs": [],
   "source": [
    "name =\"laltu\""
   ]
  },
  {
   "cell_type": "code",
   "execution_count": 7,
   "id": "bfa868a5-ce5d-4c4e-94da-09ac641c5fdf",
   "metadata": {},
   "outputs": [
    {
     "name": "stdout",
     "output_type": "stream",
     "text": [
      "laltu\n"
     ]
    }
   ],
   "source": [
    "print(name)"
   ]
  },
  {
   "cell_type": "markdown",
   "id": "8a0b8643-a2e9-4d8b-9413-fc49c95481c8",
   "metadata": {},
   "source": [
    "### Q.2) Write a code to find the length of the string \"Hello World\"."
   ]
  },
  {
   "cell_type": "code",
   "execution_count": 1,
   "id": "f4102690-037c-43b7-bd5a-a6e9d16187eb",
   "metadata": {},
   "outputs": [],
   "source": [
    "str = (\"Hello World\")"
   ]
  },
  {
   "cell_type": "code",
   "execution_count": 2,
   "id": "377e139d-10cf-40d7-b19b-accd4284c5e2",
   "metadata": {},
   "outputs": [
    {
     "data": {
      "text/plain": [
       "11"
      ]
     },
     "execution_count": 2,
     "metadata": {},
     "output_type": "execute_result"
    }
   ],
   "source": [
    "len(\"Hello World\")"
   ]
  },
  {
   "cell_type": "markdown",
   "id": "759b5e4a-696d-41ea-9845-9d4b7e89aa3c",
   "metadata": {},
   "source": [
    "### Q.3) Write a code to slice the first 3 characters from the string \"Python Programming\"."
   ]
  },
  {
   "cell_type": "code",
   "execution_count": 3,
   "id": "57b3e56e-15a1-4a17-97b4-5efaf595e74b",
   "metadata": {},
   "outputs": [],
   "source": [
    "str = \"python programming\""
   ]
  },
  {
   "cell_type": "code",
   "execution_count": 4,
   "id": "6990887b-7abe-40dd-92c4-7ed269da637a",
   "metadata": {},
   "outputs": [
    {
     "data": {
      "text/plain": [
       "'pyt'"
      ]
     },
     "execution_count": 4,
     "metadata": {},
     "output_type": "execute_result"
    }
   ],
   "source": [
    "str[:3]"
   ]
  },
  {
   "cell_type": "markdown",
   "id": "65da4861-264d-4d8e-9472-b5d890d128de",
   "metadata": {},
   "source": [
    "### Q.4) Write a code to convert the string \"hello\" to uppercase."
   ]
  },
  {
   "cell_type": "code",
   "execution_count": 5,
   "id": "c05cf1bb-c7ff-4174-8c08-df56a5c7d884",
   "metadata": {},
   "outputs": [],
   "source": [
    "str = \"hello\""
   ]
  },
  {
   "cell_type": "code",
   "execution_count": 6,
   "id": "0e8c6d5c-3176-44bd-ae8d-e03bae445a33",
   "metadata": {},
   "outputs": [
    {
     "data": {
      "text/plain": [
       "'HELLO'"
      ]
     },
     "execution_count": 6,
     "metadata": {},
     "output_type": "execute_result"
    }
   ],
   "source": [
    "str.upper()"
   ]
  },
  {
   "cell_type": "markdown",
   "id": "d77c2828-4eaa-4137-a5cd-cd183a4b89cb",
   "metadata": {},
   "source": [
    "### Q.5) Write a code to replace the word \"apple\" with \"orange\" in the string \"i like apple\"."
   ]
  },
  {
   "cell_type": "code",
   "execution_count": 7,
   "id": "f11563a6-c750-4ae9-aa7f-774d4fc9169f",
   "metadata": {},
   "outputs": [],
   "source": [
    "text = \"i like apple\""
   ]
  },
  {
   "cell_type": "code",
   "execution_count": 8,
   "id": "0c500ea8-33ff-4c08-89b5-43737b400737",
   "metadata": {},
   "outputs": [
    {
     "name": "stdout",
     "output_type": "stream",
     "text": [
      "i like apple\n"
     ]
    }
   ],
   "source": [
    "print(text)"
   ]
  },
  {
   "cell_type": "code",
   "execution_count": 9,
   "id": "92d2b019-8347-499b-ae56-6bade179269e",
   "metadata": {},
   "outputs": [
    {
     "data": {
      "text/plain": [
       "'i like orange'"
      ]
     },
     "execution_count": 9,
     "metadata": {},
     "output_type": "execute_result"
    }
   ],
   "source": [
    "text.replace(\"apple\",\"orange\")"
   ]
  },
  {
   "cell_type": "markdown",
   "id": "dba4a7c7-aa13-48f4-86c6-0f2a82ea67ee",
   "metadata": {},
   "source": [
    "### Q.6) Write a code to create a list with numbers 1 to 5 and print it>"
   ]
  },
  {
   "cell_type": "code",
   "execution_count": 10,
   "id": "a44e561a-6f41-425b-a86c-8c28671365ac",
   "metadata": {},
   "outputs": [],
   "source": [
    "my_list = [1,2,3,4,5]"
   ]
  },
  {
   "cell_type": "code",
   "execution_count": 11,
   "id": "514ecdff-232f-486b-bfb6-0048df293c54",
   "metadata": {},
   "outputs": [
    {
     "name": "stdout",
     "output_type": "stream",
     "text": [
      "[1, 2, 3, 4, 5]\n"
     ]
    }
   ],
   "source": [
    "print(my_list)"
   ]
  },
  {
   "cell_type": "markdown",
   "id": "ca43bfe6-a7c6-40ea-8a25-8c2ab5ebccea",
   "metadata": {},
   "source": [
    "### Q.7) Write a code to append the number 10 to the list[1,2,3,4]"
   ]
  },
  {
   "cell_type": "code",
   "execution_count": 12,
   "id": "3319db22-3d74-45a9-aab2-02fc265c1da8",
   "metadata": {},
   "outputs": [],
   "source": [
    "my_list1 = [1,2,3,4]"
   ]
  },
  {
   "cell_type": "code",
   "execution_count": 13,
   "id": "276e967b-d542-4123-bce9-318c1e385ee9",
   "metadata": {},
   "outputs": [],
   "source": [
    "my_list1.append(10)"
   ]
  },
  {
   "cell_type": "code",
   "execution_count": 14,
   "id": "810c200e-35df-4bbb-89fb-1d3a453675b3",
   "metadata": {},
   "outputs": [
    {
     "name": "stdout",
     "output_type": "stream",
     "text": [
      "[1, 2, 3, 4, 10]\n"
     ]
    }
   ],
   "source": [
    "print(my_list1)"
   ]
  },
  {
   "cell_type": "markdown",
   "id": "04a04e38-4db8-4344-a0ec-4bab330e86ca",
   "metadata": {},
   "source": [
    "### Q.8) Write a code to remove the number 3 from the list[1,2,3,4,5]"
   ]
  },
  {
   "cell_type": "code",
   "execution_count": 15,
   "id": "d8925bc2-9a24-480b-99b2-2f8a36ebaa7a",
   "metadata": {},
   "outputs": [],
   "source": [
    "my_list2 = [1,2,3,4,5]"
   ]
  },
  {
   "cell_type": "code",
   "execution_count": 16,
   "id": "17c79ccf-a001-46d5-a525-cf910bc7a09f",
   "metadata": {},
   "outputs": [],
   "source": [
    "my_list2.remove(3)"
   ]
  },
  {
   "cell_type": "code",
   "execution_count": 17,
   "id": "5f62abcd-be9b-46af-8bc2-b229e371b55d",
   "metadata": {},
   "outputs": [
    {
     "name": "stdout",
     "output_type": "stream",
     "text": [
      "[1, 2, 4, 5]\n"
     ]
    }
   ],
   "source": [
    "print(my_list2)"
   ]
  },
  {
   "cell_type": "markdown",
   "id": "1f90954e-c405-4529-a320-784a9bbd76fc",
   "metadata": {},
   "source": [
    "### Q.9) Write a code to access the second element in the list ['a','b','c','d']"
   ]
  },
  {
   "cell_type": "code",
   "execution_count": 18,
   "id": "0949096e-1811-4bef-aad3-c20a2bf639a0",
   "metadata": {},
   "outputs": [],
   "source": [
    "my_text = ['a','b','c','d']"
   ]
  },
  {
   "cell_type": "code",
   "execution_count": 19,
   "id": "6661e867-6089-4e75-884f-7f816fad5b3a",
   "metadata": {},
   "outputs": [
    {
     "name": "stdout",
     "output_type": "stream",
     "text": [
      "['a', 'b', 'c', 'd']\n"
     ]
    }
   ],
   "source": [
    "print(my_text)"
   ]
  },
  {
   "cell_type": "code",
   "execution_count": 20,
   "id": "a412010c-17dc-4ba3-a501-ab17a08dd43e",
   "metadata": {},
   "outputs": [
    {
     "data": {
      "text/plain": [
       "'b'"
      ]
     },
     "execution_count": 20,
     "metadata": {},
     "output_type": "execute_result"
    }
   ],
   "source": [
    "my_text[1]"
   ]
  },
  {
   "cell_type": "code",
   "execution_count": 21,
   "id": "7f0f5076-929e-4e16-84ed-2055e618f757",
   "metadata": {},
   "outputs": [
    {
     "name": "stdout",
     "output_type": "stream",
     "text": [
      "b\n"
     ]
    }
   ],
   "source": [
    "print(my_text[1])"
   ]
  },
  {
   "cell_type": "markdown",
   "id": "79461d09-6093-408e-a653-5e6aa414324a",
   "metadata": {},
   "source": [
    "### Q.10) Write a code to reverse the list [10,20,30,40,50]"
   ]
  },
  {
   "cell_type": "code",
   "execution_count": 22,
   "id": "658ed169-7a16-45e3-b1a9-b74bea3ad795",
   "metadata": {},
   "outputs": [],
   "source": [
    "my_list3 = [10,20,30,40,50]"
   ]
  },
  {
   "cell_type": "code",
   "execution_count": 23,
   "id": "357eda17-86e0-49cd-bb99-db4fec83aad0",
   "metadata": {},
   "outputs": [],
   "source": [
    "my_list3.reverse()"
   ]
  },
  {
   "cell_type": "code",
   "execution_count": 24,
   "id": "beec5a3d-db57-4455-87e4-854f248ee2ad",
   "metadata": {},
   "outputs": [
    {
     "name": "stdout",
     "output_type": "stream",
     "text": [
      "[50, 40, 30, 20, 10]\n"
     ]
    }
   ],
   "source": [
    "print(my_list3)"
   ]
  },
  {
   "cell_type": "markdown",
   "id": "f0ad46aa-7d7e-45c8-8240-242fa0483d1a",
   "metadata": {},
   "source": [
    "### Q.11) Write a code to create a tuple with the elements 100,200,300 and print it."
   ]
  },
  {
   "cell_type": "code",
   "execution_count": 25,
   "id": "0ac6f81e-7d1b-4e09-8c5d-fa4802f03754",
   "metadata": {},
   "outputs": [],
   "source": [
    "tuple = (100,200,300)"
   ]
  },
  {
   "cell_type": "code",
   "execution_count": 26,
   "id": "df0269bc-2f00-4d1f-9ec1-ba5ae5ac7f32",
   "metadata": {},
   "outputs": [
    {
     "name": "stdout",
     "output_type": "stream",
     "text": [
      "(100, 200, 300)\n"
     ]
    }
   ],
   "source": [
    "print(tuple)"
   ]
  },
  {
   "cell_type": "markdown",
   "id": "621d1b43-bded-4591-aa0b-07a630e676ca",
   "metadata": {},
   "source": [
    "### Q.12) Write a code to access the second-to-last element of the tuple ('red','green','blue','yellow')."
   ]
  },
  {
   "cell_type": "code",
   "execution_count": 27,
   "id": "f3813449-66bb-49f9-818e-d15b8ab2108b",
   "metadata": {},
   "outputs": [],
   "source": [
    "my_tuple = (\"red\",\"green\",\"blue\",\"yellow\")"
   ]
  },
  {
   "cell_type": "code",
   "execution_count": 28,
   "id": "3b268b4d-9e1d-4b7d-a621-34a6dbf5d3f5",
   "metadata": {},
   "outputs": [
    {
     "data": {
      "text/plain": [
       "'blue'"
      ]
     },
     "execution_count": 28,
     "metadata": {},
     "output_type": "execute_result"
    }
   ],
   "source": [
    "my_tuple[-2]"
   ]
  },
  {
   "cell_type": "markdown",
   "id": "dbcedffa-8c6e-4c6c-b4b3-b36e359bb242",
   "metadata": {},
   "source": [
    "### Q.13) Write a code to find the minimum number in the tuple (10,20,5,15)"
   ]
  },
  {
   "cell_type": "code",
   "execution_count": 29,
   "id": "4bcc8e03-ff8d-4da0-a8b7-8336240cf220",
   "metadata": {},
   "outputs": [],
   "source": [
    "my_tuple1 = (10,20,5,15)"
   ]
  },
  {
   "cell_type": "code",
   "execution_count": 30,
   "id": "5017ac4c-0e13-476d-b5fa-2b9282c48117",
   "metadata": {},
   "outputs": [
    {
     "data": {
      "text/plain": [
       "5"
      ]
     },
     "execution_count": 30,
     "metadata": {},
     "output_type": "execute_result"
    }
   ],
   "source": [
    "min(my_tuple1)"
   ]
  },
  {
   "cell_type": "markdown",
   "id": "abff36ad-e941-4dfd-862d-ace7597b1238",
   "metadata": {},
   "source": [
    "### Q.14) Write a code to find the index of the element \"cat\" in the tuple ('dog','cat','rabbit')"
   ]
  },
  {
   "cell_type": "code",
   "execution_count": 31,
   "id": "871efb56-fd9f-4fd6-a4f7-8fbce1f46461",
   "metadata": {},
   "outputs": [],
   "source": [
    "my_tuple2 = ('dog','cat','rabbit')"
   ]
  },
  {
   "cell_type": "code",
   "execution_count": 32,
   "id": "bac48239-8798-4253-9b7b-0fe0b218de69",
   "metadata": {},
   "outputs": [
    {
     "data": {
      "text/plain": [
       "1"
      ]
     },
     "execution_count": 32,
     "metadata": {},
     "output_type": "execute_result"
    }
   ],
   "source": [
    "my_tuple2.index('cat')"
   ]
  },
  {
   "cell_type": "markdown",
   "id": "41268a98-24bf-45a5-ad7e-a7a7a985a936",
   "metadata": {},
   "source": [
    "### Q.15) Write a code to create a tuple containing three different fruits and check if \"kiwi\" is in it."
   ]
  },
  {
   "cell_type": "code",
   "execution_count": 34,
   "id": "745a8873-137a-433f-9531-077597331d43",
   "metadata": {},
   "outputs": [],
   "source": [
    "my_tuple3 = (\"apple\", \"orange\", \"banana\")"
   ]
  },
  {
   "cell_type": "code",
   "execution_count": 35,
   "id": "92b984ad-e4d8-4d68-8a51-68599172c64f",
   "metadata": {},
   "outputs": [
    {
     "data": {
      "text/plain": [
       "False"
      ]
     },
     "execution_count": 35,
     "metadata": {},
     "output_type": "execute_result"
    }
   ],
   "source": [
    "\"kiwi\"in my_tuple3"
   ]
  },
  {
   "cell_type": "markdown",
   "id": "73d6ffa2-dae0-4822-acb6-f302ab32c401",
   "metadata": {},
   "source": [
    "### Q.16) Write a code to create a set with the elements 'a','b','c' and print it."
   ]
  },
  {
   "cell_type": "code",
   "execution_count": 37,
   "id": "538a49dc-8c69-4ea8-8f11-48bda69cd8d9",
   "metadata": {},
   "outputs": [],
   "source": [
    "my_set = {'a','b','c'}"
   ]
  },
  {
   "cell_type": "code",
   "execution_count": 38,
   "id": "a5db6d92-cb86-42b2-8b58-50f126dfb1a2",
   "metadata": {},
   "outputs": [
    {
     "data": {
      "text/plain": [
       "set"
      ]
     },
     "execution_count": 38,
     "metadata": {},
     "output_type": "execute_result"
    }
   ],
   "source": [
    "type(my_set)"
   ]
  },
  {
   "cell_type": "code",
   "execution_count": 39,
   "id": "b302fa67-dbb0-41a8-9be5-0fa3a489e62e",
   "metadata": {},
   "outputs": [
    {
     "name": "stdout",
     "output_type": "stream",
     "text": [
      "{'b', 'a', 'c'}\n"
     ]
    }
   ],
   "source": [
    "print(my_set)"
   ]
  },
  {
   "cell_type": "markdown",
   "id": "0b98d7b1-ec94-44db-869d-1fd0ef5a8559",
   "metadata": {},
   "source": [
    "### Q.17) Write a code to clear all elements from the set {1,2,3,4,5}"
   ]
  },
  {
   "cell_type": "code",
   "execution_count": 40,
   "id": "9399133b-9d6c-4ea1-8180-288f07cf7f8d",
   "metadata": {},
   "outputs": [],
   "source": [
    "my_set1 = {1,2,3,4,5}"
   ]
  },
  {
   "cell_type": "code",
   "execution_count": 41,
   "id": "3dd5069b-bdb3-49a1-a19b-2220d9f17f10",
   "metadata": {},
   "outputs": [],
   "source": [
    "my_set1.clear()"
   ]
  },
  {
   "cell_type": "code",
   "execution_count": 42,
   "id": "5c44eb17-517c-45ed-ade8-e462af8ee602",
   "metadata": {},
   "outputs": [
    {
     "name": "stdout",
     "output_type": "stream",
     "text": [
      "set()\n"
     ]
    }
   ],
   "source": [
    "print(my_set1)"
   ]
  },
  {
   "cell_type": "markdown",
   "id": "a6caa64e-83e4-4ca5-8ae0-5136c18d7bfc",
   "metadata": {},
   "source": [
    "### Q.18) Write a code to remove the element 4 from the set {1,2,3,4}"
   ]
  },
  {
   "cell_type": "code",
   "execution_count": 43,
   "id": "47ae7518-a592-44b3-9762-29d670087f8d",
   "metadata": {},
   "outputs": [],
   "source": [
    "my_set2 = {1,2,3,4}"
   ]
  },
  {
   "cell_type": "code",
   "execution_count": 44,
   "id": "7a779e5b-4f67-4296-8cec-d1d3fdd90d11",
   "metadata": {},
   "outputs": [],
   "source": [
    "my_set2.remove(4)"
   ]
  },
  {
   "cell_type": "code",
   "execution_count": 45,
   "id": "5aa16f6f-b3e3-45bd-a661-776d78ce5618",
   "metadata": {},
   "outputs": [
    {
     "name": "stdout",
     "output_type": "stream",
     "text": [
      "{1, 2, 3}\n"
     ]
    }
   ],
   "source": [
    "print(my_set2)"
   ]
  },
  {
   "cell_type": "markdown",
   "id": "bfbff188-6c70-441d-a486-c407503766fe",
   "metadata": {},
   "source": [
    "### Q.19) Write a code to find the union of two sets {1,2,3} and {3,4,5}"
   ]
  },
  {
   "cell_type": "code",
   "execution_count": 46,
   "id": "004f823c-b456-4a11-ac4e-f7fe836c09c4",
   "metadata": {},
   "outputs": [],
   "source": [
    "my_set3 = {1,2,3}\n",
    "my_set4 = {3,4,5}"
   ]
  },
  {
   "cell_type": "code",
   "execution_count": 47,
   "id": "27b0be07-588c-4b18-84d9-b2464ef4f8b9",
   "metadata": {},
   "outputs": [
    {
     "data": {
      "text/plain": [
       "{1, 2, 3, 4, 5}"
      ]
     },
     "execution_count": 47,
     "metadata": {},
     "output_type": "execute_result"
    }
   ],
   "source": [
    "my_set3.union(my_set4)"
   ]
  },
  {
   "cell_type": "markdown",
   "id": "da6696a1-cd17-4682-841b-2adcea17578f",
   "metadata": {},
   "source": [
    "### Q.20) Write a code to find the intersection of two sets {1,2,3} and {2,3,4}"
   ]
  },
  {
   "cell_type": "code",
   "execution_count": 48,
   "id": "48f42a99-6401-4d87-90a3-588074d6f7fe",
   "metadata": {},
   "outputs": [],
   "source": [
    "my_set5 = {1,2,3}\n",
    "my_set6 = {2,3,4}"
   ]
  },
  {
   "cell_type": "code",
   "execution_count": 49,
   "id": "b1c55796-f917-4797-8d38-feb65591ce6e",
   "metadata": {},
   "outputs": [
    {
     "data": {
      "text/plain": [
       "{2, 3}"
      ]
     },
     "execution_count": 49,
     "metadata": {},
     "output_type": "execute_result"
    }
   ],
   "source": [
    "my_set5.intersection(my_set6)"
   ]
  },
  {
   "cell_type": "markdown",
   "id": "81ec08fe-46ac-47ba-bfd0-7a3be31c74f4",
   "metadata": {},
   "source": [
    "### Q.21) Write a code to create a dictionary with the keys \"name\",\"age\",and\"city\", and print it."
   ]
  },
  {
   "cell_type": "code",
   "execution_count": 50,
   "id": "d519ed50-bd4c-4263-aeee-5392310b034f",
   "metadata": {},
   "outputs": [],
   "source": [
    "dict = {\"name\":\"laltu\",\"age\":28,\"city\":\"bankura\"}"
   ]
  },
  {
   "cell_type": "code",
   "execution_count": 51,
   "id": "c98f1c19-b5ba-4d95-803d-ed44a7363bda",
   "metadata": {},
   "outputs": [
    {
     "name": "stdout",
     "output_type": "stream",
     "text": [
      "{'name': 'laltu', 'age': 28, 'city': 'bankura'}\n"
     ]
    }
   ],
   "source": [
    "print(dict)"
   ]
  },
  {
   "cell_type": "markdown",
   "id": "75615b96-bc73-436d-9f58-cb39dc4ffaa9",
   "metadata": {},
   "source": [
    "### Q.22) Write a code to add a new key-value pair\"country\":\"USA\" to the dictionary {'name':'John','age':25}"
   ]
  },
  {
   "cell_type": "code",
   "execution_count": 52,
   "id": "70110d1d-31ed-4751-a294-cf8ff3b7303a",
   "metadata": {},
   "outputs": [],
   "source": [
    "my_dict = {\"name\":\"John\",\"age\":25}"
   ]
  },
  {
   "cell_type": "code",
   "execution_count": 53,
   "id": "036e8f7f-4024-4364-baa5-5c4279ab7fd9",
   "metadata": {},
   "outputs": [],
   "source": [
    "my_dict[\"country\"]=\"USA\""
   ]
  },
  {
   "cell_type": "code",
   "execution_count": 54,
   "id": "3de9cfcb-b134-409f-9f4e-4f274578cf95",
   "metadata": {},
   "outputs": [
    {
     "name": "stdout",
     "output_type": "stream",
     "text": [
      "{'name': 'John', 'age': 25, 'country': 'USA'}\n"
     ]
    }
   ],
   "source": [
    "print(my_dict)"
   ]
  },
  {
   "cell_type": "markdown",
   "id": "e9b72c97-0b13-45c9-8144-be09455efede",
   "metadata": {},
   "source": [
    "### Q.23) Write a code to access the value associated with the key\"name\"in the dictionary{'name':'Alice','age':30}"
   ]
  },
  {
   "cell_type": "code",
   "execution_count": 55,
   "id": "e6e83927-b5f3-41a6-802a-683946d4756f",
   "metadata": {},
   "outputs": [],
   "source": [
    "my_dict1 = {\"name\":\"Alice\",\"age\":30}"
   ]
  },
  {
   "cell_type": "code",
   "execution_count": 56,
   "id": "3c786e47-e271-46cf-9c98-6767961a47ea",
   "metadata": {},
   "outputs": [
    {
     "data": {
      "text/plain": [
       "'Alice'"
      ]
     },
     "execution_count": 56,
     "metadata": {},
     "output_type": "execute_result"
    }
   ],
   "source": [
    "my_dict1[\"name\"]"
   ]
  },
  {
   "cell_type": "markdown",
   "id": "d659f538-42c0-4a8b-9ee7-0031e9931f0a",
   "metadata": {},
   "source": [
    "### Q.24) Write a code to remove the key \"age\" from the dictionary {'name':'Bob','age':22,'city':'New York'}"
   ]
  },
  {
   "cell_type": "code",
   "execution_count": 57,
   "id": "3e3bc6d4-1320-4118-a356-1c5a3baaf19f",
   "metadata": {},
   "outputs": [],
   "source": [
    "my_dict2 = {\"name\":\"Bob\",\"age\":22,\"city\":\"New York\"}"
   ]
  },
  {
   "cell_type": "code",
   "execution_count": 58,
   "id": "a7cdc618-a6a2-4e25-bf96-944a77bd1b49",
   "metadata": {},
   "outputs": [
    {
     "data": {
      "text/plain": [
       "22"
      ]
     },
     "execution_count": 58,
     "metadata": {},
     "output_type": "execute_result"
    }
   ],
   "source": [
    "my_dict2.pop(\"age\")"
   ]
  },
  {
   "cell_type": "code",
   "execution_count": 59,
   "id": "aa2d15e7-b087-4edc-8b89-7a81e075e879",
   "metadata": {},
   "outputs": [
    {
     "name": "stdout",
     "output_type": "stream",
     "text": [
      "{'name': 'Bob', 'city': 'New York'}\n"
     ]
    }
   ],
   "source": [
    "print(my_dict2)"
   ]
  },
  {
   "cell_type": "markdown",
   "id": "6d6b1f6b-5be2-4958-8ad4-5b96585cdf63",
   "metadata": {},
   "source": [
    "### Q.25) Write a code to check if the key\"city\"exists in the dictionary {'name':'Alice','ciy':'Paris'}"
   ]
  },
  {
   "cell_type": "code",
   "execution_count": 60,
   "id": "36c73d45-81be-4fa1-aeeb-20a05ea5531d",
   "metadata": {},
   "outputs": [],
   "source": [
    "my_dict3 = {\"name\":\"Alice\",\"city\":\"Paris\"}"
   ]
  },
  {
   "cell_type": "code",
   "execution_count": 61,
   "id": "1dd2dd73-e411-40e1-a2e9-4e875c46aa4e",
   "metadata": {},
   "outputs": [
    {
     "data": {
      "text/plain": [
       "True"
      ]
     },
     "execution_count": 61,
     "metadata": {},
     "output_type": "execute_result"
    }
   ],
   "source": [
    "\"city\"in my_dict3"
   ]
  },
  {
   "cell_type": "markdown",
   "id": "769ff0e5-f17b-4864-b517-926773b7ffc0",
   "metadata": {},
   "source": [
    "### Q.26) Write a code to create a list, a tuple, and a dictionary, and print them all."
   ]
  },
  {
   "cell_type": "code",
   "execution_count": 62,
   "id": "c9104090-c177-4083-9959-cf78768287ed",
   "metadata": {},
   "outputs": [],
   "source": [
    "my_list = [1,2,3]\n",
    "my_tuple = (\"apple\",\"banana\",\"orange\")\n",
    "my_dict = {\"name\":\"Laltu\",\"age\":28,\"city\":\"Bankura\"}"
   ]
  },
  {
   "cell_type": "code",
   "execution_count": 63,
   "id": "4ca92c7f-3a3a-4370-a078-cd0a34630d6d",
   "metadata": {},
   "outputs": [
    {
     "name": "stdout",
     "output_type": "stream",
     "text": [
      "[1, 2, 3] ('apple', 'banana', 'orange') {'name': 'Laltu', 'age': 28, 'city': 'Bankura'}\n"
     ]
    }
   ],
   "source": [
    "print(my_list, my_tuple, my_dict)"
   ]
  },
  {
   "cell_type": "markdown",
   "id": "08e7838b-685c-4e75-8dd9-037b6744867d",
   "metadata": {},
   "source": [
    "### Q.27) Write a code to create a list of 5 random numbers between 1 and 100, sort it in ascending order,and print the result.(replaced)"
   ]
  },
  {
   "cell_type": "code",
   "execution_count": 64,
   "id": "a77f0a32-922e-4c84-ba14-d9ed8ed7fdf3",
   "metadata": {},
   "outputs": [],
   "source": [
    "numbers = [1, 80, 45, 100, 65]"
   ]
  },
  {
   "cell_type": "code",
   "execution_count": 65,
   "id": "1e052e6d-f9d1-4ffa-977e-06d9d64f7bc9",
   "metadata": {},
   "outputs": [
    {
     "data": {
      "text/plain": [
       "list"
      ]
     },
     "execution_count": 65,
     "metadata": {},
     "output_type": "execute_result"
    }
   ],
   "source": [
    "type(numbers)"
   ]
  },
  {
   "cell_type": "code",
   "execution_count": 66,
   "id": "df27b4f4-1775-4e2d-a11b-1d566743c948",
   "metadata": {},
   "outputs": [],
   "source": [
    "numbers.sort()"
   ]
  },
  {
   "cell_type": "code",
   "execution_count": 67,
   "id": "e98b6ebf-95ae-4dec-8fc4-d22de0550d3f",
   "metadata": {},
   "outputs": [
    {
     "name": "stdout",
     "output_type": "stream",
     "text": [
      "[1, 45, 65, 80, 100]\n"
     ]
    }
   ],
   "source": [
    "print(numbers)"
   ]
  },
  {
   "cell_type": "markdown",
   "id": "3e343bb3-50fa-4638-9e8b-d2a0efe55118",
   "metadata": {},
   "source": [
    "### Q.28) Write a code to create a list with strings and print the element at the third index."
   ]
  },
  {
   "cell_type": "code",
   "execution_count": 68,
   "id": "a4610912-0f17-47de-99de-a79dc7d86a07",
   "metadata": {},
   "outputs": [],
   "source": [
    "string = [\"apple\",\"banana\",\"orange\",\"watermelon\"]"
   ]
  },
  {
   "cell_type": "code",
   "execution_count": 69,
   "id": "a3365c63-a292-46e9-b7d4-baec4e24c167",
   "metadata": {},
   "outputs": [
    {
     "data": {
      "text/plain": [
       "'watermelon'"
      ]
     },
     "execution_count": 69,
     "metadata": {},
     "output_type": "execute_result"
    }
   ],
   "source": [
    "string[3]"
   ]
  },
  {
   "cell_type": "markdown",
   "id": "6e58566a-d008-4a82-ada4-ae2548dd8012",
   "metadata": {},
   "source": [
    "### Q.29) Write a code to combine two dictionaries into one and print the result."
   ]
  },
  {
   "cell_type": "code",
   "execution_count": 70,
   "id": "9607f5ba-0d26-4684-a60c-dae98db3c78e",
   "metadata": {},
   "outputs": [],
   "source": [
    "dict1 = {\"name\":\"Laltu\"}\n",
    "dict2 = {\"age\":28}"
   ]
  },
  {
   "cell_type": "code",
   "execution_count": null,
   "id": "bca0cd02-ebd5-4797-aae1-a5f4710feba9",
   "metadata": {},
   "outputs": [],
   "source": []
  },
  {
   "cell_type": "code",
   "execution_count": null,
   "id": "84c94890-e323-43a9-9a07-9c036264370a",
   "metadata": {},
   "outputs": [],
   "source": []
  },
  {
   "cell_type": "markdown",
   "id": "678b583c-45f2-4c43-a903-2b33c40098eb",
   "metadata": {},
   "source": [
    "### Q.30) Write a code to convert a list of strings a set."
   ]
  },
  {
   "cell_type": "code",
   "execution_count": 73,
   "id": "87c8930b-c754-4c8c-a899-470935b245d0",
   "metadata": {},
   "outputs": [],
   "source": [
    "my_list = [\"apple\", \"banana\", \"orange\", \"banana\"]"
   ]
  },
  {
   "cell_type": "code",
   "execution_count": 74,
   "id": "0e898c4b-6b60-483b-bb19-8103283687b5",
   "metadata": {},
   "outputs": [
    {
     "data": {
      "text/plain": [
       "list"
      ]
     },
     "execution_count": 74,
     "metadata": {},
     "output_type": "execute_result"
    }
   ],
   "source": [
    "type(my_list)"
   ]
  },
  {
   "cell_type": "code",
   "execution_count": 75,
   "id": "d7f14ead-d84a-4d73-b7ff-69bea82961cb",
   "metadata": {},
   "outputs": [],
   "source": [
    "my_string = set(my_list)"
   ]
  },
  {
   "cell_type": "code",
   "execution_count": 76,
   "id": "312a4613-086c-4d9a-ac01-30b2543e5f7a",
   "metadata": {},
   "outputs": [
    {
     "name": "stdout",
     "output_type": "stream",
     "text": [
      "{'banana', 'orange', 'apple'}\n"
     ]
    }
   ],
   "source": [
    "print(my_string)"
   ]
  },
  {
   "cell_type": "code",
   "execution_count": 77,
   "id": "3c8427d2-fd9a-46b4-bf14-e2f48dcfe4f9",
   "metadata": {},
   "outputs": [
    {
     "data": {
      "text/plain": [
       "set"
      ]
     },
     "execution_count": 77,
     "metadata": {},
     "output_type": "execute_result"
    }
   ],
   "source": [
    "type(my_string)"
   ]
  },
  {
   "cell_type": "code",
   "execution_count": null,
   "id": "e763a835-faa0-4697-bddb-6e18a5446090",
   "metadata": {},
   "outputs": [],
   "source": [
    "--------------------------------------------------------------------------------------------------"
   ]
  }
 ],
 "metadata": {
  "kernelspec": {
   "display_name": "Python 3 (ipykernel)",
   "language": "python",
   "name": "python3"
  },
  "language_info": {
   "codemirror_mode": {
    "name": "ipython",
    "version": 3
   },
   "file_extension": ".py",
   "mimetype": "text/x-python",
   "name": "python",
   "nbconvert_exporter": "python",
   "pygments_lexer": "ipython3",
   "version": "3.12.7"
  }
 },
 "nbformat": 4,
 "nbformat_minor": 5
}
